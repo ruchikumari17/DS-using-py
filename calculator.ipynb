{
 "cells": [
  {
   "cell_type": "code",
   "execution_count": 6,
   "id": "0ef2470b",
   "metadata": {},
   "outputs": [
    {
     "name": "stdout",
     "output_type": "stream",
     "text": [
      "Enter the operator=%\n",
      "Enter for a=10\n",
      "enter for b=2\n",
      "Invalid operator\n"
     ]
    }
   ],
   "source": [
    "op=input(\"Enter the operator=\")\n",
    "a=int(input(\"Enter for a=\"))\n",
    "b=int(input(\"enter for b=\"))\n",
    "if(op == \"*\"):\n",
    "    print(a*b)\n",
    "elif(op == \"+\"):\n",
    "    print(a*b)\n",
    "elif(op == \"/\"):\n",
    "    print(a/b)\n",
    "elif(op == \"//\"):\n",
    "    print(a//b)\n",
    "else:\n",
    "    print(\"Invalid operator\")"
   ]
  },
  {
   "cell_type": "code",
   "execution_count": null,
   "id": "be90a382",
   "metadata": {},
   "outputs": [],
   "source": []
  },
  {
   "cell_type": "code",
   "execution_count": null,
   "id": "2857f2bb",
   "metadata": {},
   "outputs": [],
   "source": []
  }
 ],
 "metadata": {
  "kernelspec": {
   "display_name": "Python 3 (ipykernel)",
   "language": "python",
   "name": "python3"
  },
  "language_info": {
   "codemirror_mode": {
    "name": "ipython",
    "version": 3
   },
   "file_extension": ".py",
   "mimetype": "text/x-python",
   "name": "python",
   "nbconvert_exporter": "python",
   "pygments_lexer": "ipython3",
   "version": "3.11.3"
  }
 },
 "nbformat": 4,
 "nbformat_minor": 5
}
